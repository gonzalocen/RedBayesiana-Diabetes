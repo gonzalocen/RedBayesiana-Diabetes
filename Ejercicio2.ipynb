{
  "nbformat": 4,
  "nbformat_minor": 0,
  "metadata": {
    "colab": {
      "provenance": [],
      "authorship_tag": "ABX9TyN1ygVY/50razJvY4hBkSE6",
      "include_colab_link": true
    },
    "kernelspec": {
      "name": "ir",
      "display_name": "R"
    },
    "language_info": {
      "name": "R"
    }
  },
  "cells": [
    {
      "cell_type": "markdown",
      "metadata": {
        "id": "view-in-github",
        "colab_type": "text"
      },
      "source": [
        "<a href=\"https://colab.research.google.com/github/gonzalocen/RedBayesiana-Diabetes/blob/main/Ejercicio2.ipynb\" target=\"_parent\"><img src=\"https://colab.research.google.com/assets/colab-badge.svg\" alt=\"Open In Colab\"/></a>"
      ]
    },
    {
      "cell_type": "code",
      "execution_count": 1,
      "metadata": {
        "colab": {
          "base_uri": "https://localhost:8080/",
          "height": 124
        },
        "id": "Zqk0RxlF3-DR",
        "outputId": "18463a88-8f3b-4dca-c5f0-3c9326414e3d"
      },
      "outputs": [
        {
          "output_type": "error",
          "ename": "ERROR",
          "evalue": "Error in parse(text = input): <text>:18:6: unexpected symbol\n17: # Ejecutá este bloque y elegí el archivo \"diabetes.csv\"\n18: from google.colab\n         ^\n",
          "traceback": [
            "Error in parse(text = input): <text>:18:6: unexpected symbol\n17: # Ejecutá este bloque y elegí el archivo \"diabetes.csv\"\n18: from google.colab\n         ^\nTraceback:\n"
          ]
        }
      ],
      "source": [
        "#---------------------------------------------\n",
        "# EJERCICIO 2 - Red Bayesiana: Diabetes\n",
        "#---------------------------------------------\n",
        "# Autor: [Tu Nombre]\n",
        "# Materia: Fundamentos de Inteligencia Artificial / Minería de Datos\n",
        "#---------------------------------------------\n",
        "\n",
        "# Instalar librerías necesarias (solo la primera vez)\n",
        "install.packages(\"bnlearn\")\n",
        "install.packages(\"gRain\")\n",
        "\n",
        "# Cargar librerías\n",
        "library(bnlearn)\n",
        "library(gRain)\n",
        "\n",
        "#---------------------------------------------\n",
        "# 🔹 Cargar el dataset desde URL (GitHub o fuente pública)\n",
        "#---------------------------------------------\n",
        "\n",
        "# Dataset original de Kaggle, disponible en GitHub público\n",
        "url <- \"https://raw.githubusercontent.com/jbrownlee/Datasets/master/pima-indians-diabetes.data.csv\"\n",
        "\n",
        "# Cargar el dataset directamente\n",
        "datos <- read.csv(url, header = FALSE)\n",
        "\n",
        "# Asignar nombres de columnas\n",
        "colnames(datos) <- c(\"Embarazos\",\"Glucosa\",\"Presion\",\"GrosorPiel\",\n",
        "                     \"Insulina\",\"IMC\",\"Pedigree\",\"Edad\",\"Diabetes\")\n",
        "\n",
        "# Convertir variable objetivo a factor\n",
        "datos$Diabetes <- factor(ifelse(datos$Diabetes == 1, \"Si\", \"No\"))\n",
        "\n",
        "#---------------------------------------------\n",
        "# 🔹 Preprocesamiento\n",
        "#---------------------------------------------\n",
        "\n",
        "# Crear categorías para Glucosa e IMC\n",
        "datos$NivelGlucosa <- cut(datos$Glucosa,\n",
        "                          breaks = c(0, 100, 140, 200, Inf),\n",
        "                          labels = c(\"Normal\", \"Tolerancia\", \"Alta\", \"MuyAlta\"))\n",
        "\n",
        "datos$NivelIMC <- cut(datos$IMC,\n",
        "                      breaks = c(0, 25, 30, 35, Inf),\n",
        "                      labels = c(\"Normal\", \"Sobrepeso\", \"Obesidad\", \"Severa\"))\n",
        "\n",
        "# Agrupar edad\n",
        "datos$EdadGrupo <- cut(datos$Edad, breaks = c(20,40,60,Inf),\n",
        "                       labels = c(\"Joven\",\"Adulto\",\"Mayor\"))\n",
        "\n",
        "# Seleccionar variables relevantes\n",
        "datos_bayes <- datos[, c(\"NivelGlucosa\", \"NivelIMC\", \"EdadGrupo\", \"Diabetes\")]\n",
        "\n",
        "#---------------------------------------------\n",
        "# 🔹 Construcción de la red bayesiana\n",
        "#---------------------------------------------\n",
        "\n",
        "# Definir la estructura\n",
        "red_estructura <- model2network(\"[NivelGlucosa][NivelIMC][EdadGrupo][Diabetes|NivelGlucosa:NivelIMC:EdadGrupo]\")\n",
        "\n",
        "# Aprender los parámetros con los datos\n",
        "red_parametros <- bn.fit(red_estructura, datos_bayes, method = \"bayes\")\n",
        "\n",
        "# Crear el objeto de inferencia probabilística\n",
        "red_probabilidad <- compile(as.grain(red_parametros))\n",
        "\n",
        "#---------------------------------------------\n",
        "# 🔹 Consultas\n",
        "#---------------------------------------------\n",
        "\n",
        "# Probabilidad general de diabetes\n",
        "cat(\"\\nProbabilidad general de tener diabetes:\\n\")\n",
        "print(querygrain(red_probabilidad, nodes = \"Diabetes\"))\n",
        "\n",
        "# Probabilidad de diabetes con evidencia: glucosa alta y sobrepeso\n",
        "cat(\"\\nProbabilidad de tener diabetes con Glucosa=Alta e IMC=Sobrepeso:\\n\")\n",
        "consulta <- querygrain(red_probabilidad,\n",
        "                       nodes = \"Diabetes\",\n",
        "                       evidence = list(NivelGlucosa = \"Alta\", NivelIMC = \"Sobrepeso\"))\n",
        "print(consulta)\n",
        "\n",
        "#---------------------------------------------\n",
        "# 🔹 Interpretación\n",
        "#---------------------------------------------\n",
        "cat(\"\\nInterpretación:\\n\")\n",
        "cat(\"El modelo estima la probabilidad de tener diabetes según las condiciones dadas.\\n\")\n",
        "cat(\"Por ejemplo, si el resultado para 'Si' es 0.60, significa una probabilidad del 60% de padecer diabetes\\n\")\n",
        "cat(\"cuando la persona presenta glucosa alta y sobrepeso.\\n\")\n"
      ]
    }
  ]
}